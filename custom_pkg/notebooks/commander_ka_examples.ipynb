{
 "cells": [
  {
   "cell_type": "markdown",
   "metadata": {},
   "source": [
    "# commander examples\n"
   ]
  },
  {
   "cell_type": "code",
   "execution_count": null,
   "metadata": {},
   "outputs": [],
   "source": [
    "from typing import List\n",
    "from math import pi\n",
    "import rospy\n",
    "from copy import deepcopy\n",
    "\n",
    "from moveit_commander import PlanningSceneInterface\n",
    "\n",
    "from geometry_msgs.msg import (\n",
    "    Pose,\n",
    "    PoseStamped,\n",
    "    Point,\n",
    "    Quaternion,\n",
    ")\n",
    "from commander.msg import Goal\n",
    "from commander.srv import (\n",
    "    ExecuteTrajectory,\n",
    "    PlanGoal,\n",
    "    PlanGoalRequest,\n",
    "    PlanSequence,\n",
    "    PlanSequenceRequest,\n",
    "    PickPlace,\n",
    "    GetTcpPose,\n",
    "    VisualizePoses,\n",
    "    SetEe,\n",
    ")\n",
    "\n",
    "from commander.utils import poses_from_yaml, load_scene\n",
    "from commander.transform_utils import orient_poses, create_rotation_matrix, apply_transformation\n",
    "\n",
    "plan_goal_srv = rospy.ServiceProxy('commander/plan_goal', PlanGoal)\n",
    "plan_sequence_srv = rospy.ServiceProxy('commander/plan_sequence', PlanSequence)\n",
    "execute_trajectory_srv = rospy.ServiceProxy('commander/execute_trajectory', ExecuteTrajectory)\n",
    "get_tcp_pose_srv = rospy.ServiceProxy('commander/get_tcp_pose', GetTcpPose)\n",
    "set_ee_srv = rospy.ServiceProxy('commander/set_ee', SetEe)\n",
    "pick_place_srv = rospy.ServiceProxy('commander/pick_place', PickPlace)\n",
    "\n",
    "\n",
    "def display_poses(poses: List[Pose], frame_id: str = 'base_link') -> None:\n",
    "    rospy.wait_for_service('/visualize_poses', timeout=10)\n",
    "    visualize_poses = rospy.ServiceProxy('/visualize_poses', VisualizePoses)\n",
    "    visualize_poses(frame_id, poses)\n",
    "    success = execute_trajectory_srv()\n",
    "\n",
    "\n",
    "rospy.init_node('robot_program')\n",
    "scene = PlanningSceneInterface()\n",
    "load_scene()\n"
   ]
  },
  {
   "cell_type": "markdown",
   "metadata": {},
   "source": [
    "plan to goal"
   ]
  },
  {
   "cell_type": "code",
   "execution_count": null,
   "metadata": {},
   "outputs": [],
   "source": [
    "#cam_home = [0.0, -1.5708, 1.5708, -3.1416, -1.5708, 0]\n",
    "cam_home = [-3.062046195720626, -2.042543974749485, -0.9841965193219935, -1.8468536888817202, -1.4911785421602695, -3.2211255818224362]\n"
   ]
  },
  {
   "cell_type": "code",
   "execution_count": null,
   "metadata": {},
   "outputs": [],
   "source": [
    "# the following args for planner are available:\n",
    "# - 'ompl' will use the ompl planning pipeline with RTTConnect planner\n",
    "# - 'ptp' will use the pilz planning pipeline with the PTP planner\n",
    "# - 'lin' will use the pilz planning pipeline with the LIN planner\n",
    "\n",
    "plan_goal_srv(Goal(joint_values=cam_home, vel_scale=0.2, acc_scale=0.2, planner='ptp'))"
   ]
  },
  {
   "cell_type": "code",
   "execution_count": null,
   "metadata": {},
   "outputs": [],
   "source": [
    "success = execute_trajectory_srv()\n"
   ]
  },
  {
   "cell_type": "code",
   "execution_count": null,
   "metadata": {},
   "outputs": [],
   "source": [
    "success = set_ee_srv('rgb_camera_tcp')\n"
   ]
  },
  {
   "cell_type": "code",
   "execution_count": null,
   "metadata": {},
   "outputs": [],
   "source": [
    "# target0 = Pose(\n",
    "#     position=Point(0.8, -0.5, 0.16),\n",
    "#     orientation=Quaternion(0.7071067811865476, -0.7071067811865475, 0.0, 0.0),\n",
    "# )\n",
    "# target1 = Pose(\n",
    "#     position=Point(0.8, 0.5, 0.16),\n",
    "#     orientation=Quaternion(0.7071067811865476, -0.7071067811865475, 0.0, 0.0),\n",
    "# )\n",
    "# display_poses([target0, target1])"
   ]
  },
  {
   "cell_type": "code",
   "execution_count": null,
   "metadata": {},
   "outputs": [],
   "source": [
    "from geometry_msgs.msg import Point, Pose, Quaternion\n",
    "from tf.transformations import quaternion_from_euler\n",
    "\n",
    "def pose_from_euler(position, euler_angles):\n",
    "    # Convert Euler angles to Quaternion\n",
    "    orientation_quaternion = Quaternion(*quaternion_from_euler(*euler_angles))\n",
    "    return Pose(position=position, orientation=orientation_quaternion)\n",
    "\n",
    "\n",
    "# 45º\n",
    "position0 = Point(0.659, -0.5, 0.171)\n",
    "euler_angles0 = (3.92, 0.0, 4.71)  # Replace with your desired Euler angles (x, y, z)\n",
    "target0 = pose_from_euler(position0, euler_angles0)\n",
    "\n",
    "position1 = Point(0.659, -0.25, 0.171)\n",
    "euler_angles1 = (3.92, 0.0, 4.71)  # Replace with your desired Euler angles (x, y, z)\n",
    "target1 = pose_from_euler(position1, euler_angles1)\n",
    "\n",
    "position1 = Point(0.659, 0.0, 0.171)\n",
    "euler_angles1 = (3.92, 0.0, 4.71)  # Replace with your desired Euler angles (x, y, z)\n",
    "target2 = pose_from_euler(position1, euler_angles1)\n",
    "\n",
    "position1 = Point(0.659, 0.25, 0.171)\n",
    "euler_angles1 = (3.92, 0.0, 4.71)  # Replace with your desired Euler angles (x, y, z)\n",
    "target3 = pose_from_euler(position1, euler_angles1)\n",
    "\n",
    "position1 = Point(0.659, 0.50, 0.171)\n",
    "euler_angles1 = (3.92, 0.0, 4.71)  # Replace with your desired Euler angles (x, y, z)\n",
    "target4 = pose_from_euler(position1, euler_angles1)\n",
    "\n",
    "\n",
    "# 60º\n",
    "position0 = Point(0.7, 0.5, 0.203)\n",
    "euler_angles0 = (3.66, 0.0, 4.71)  # Replace with your desired Euler angles (x, y, z)\n",
    "target5 = pose_from_euler(position0, euler_angles0)\n",
    "\n",
    "position1 = Point(0.7, 0.25, 0.203)\n",
    "euler_angles1 = (3.66, 0.0, 4.71)  # Replace with your desired Euler angles (x, y, z)\n",
    "target6 = pose_from_euler(position1, euler_angles1)\n",
    "\n",
    "position1 = Point(0.7, 0.0, 0.203)\n",
    "euler_angles1 = (3.66, 0.0, 4.71)  # Replace with your desired Euler angles (x, y, z)\n",
    "target7 = pose_from_euler(position1, euler_angles1)\n",
    "\n",
    "position1 = Point(0.7, -0.25, 0.203)\n",
    "euler_angles1 = (3.66, 0.0, 4.71)  # Replace with your desired Euler angles (x, y, z)\n",
    "target8 = pose_from_euler(position1, euler_angles1)\n",
    "\n",
    "position1 = Point(0.7, -0.50, 0.203)\n",
    "euler_angles1 = (3.66, 0.0, 4.71)  # Replace with your desired Euler angles (x, y, z)\n",
    "target9 = pose_from_euler(position1, euler_angles1)\n",
    "\n",
    "\n",
    "#CANTO_1\n",
    "position1 = Point(0.8, -0.641, 0.246)\n",
    "euler_angles1 = (3.14, 0.78, 4.71)  # Replace with your desired Euler angles (x, y, z)\n",
    "target10 = pose_from_euler(position1, euler_angles1)\n",
    "\n",
    "# 90º\n",
    "position0 = Point(0.8, -0.5, 0.246)\n",
    "euler_angles0 = (3.14, 0.0, 4.71)  # Replace with your desired Euler angles (x, y, z)\n",
    "target11 = pose_from_euler(position0, euler_angles0)\n",
    "\n",
    "position1 = Point(0.8, -0.25, 0.246)\n",
    "euler_angles1 = (3.14, 0.0, 4.71)  # Replace with your desired Euler angles (x, y, z)\n",
    "target12 = pose_from_euler(position1, euler_angles1)\n",
    "\n",
    "position1 = Point(0.8, 0.0, 0.246)\n",
    "euler_angles1 = (3.14, 0.0, 4.71)  # Replace with your desired Euler angles (x, y, z)\n",
    "target13 = pose_from_euler(position1, euler_angles1)\n",
    "\n",
    "position1 = Point(0.8, 0.25, 0.246)\n",
    "euler_angles1 = (3.14, 0.0, 4.71)  # Replace with your desired Euler angles (x, y, z)\n",
    "target14 = pose_from_euler(position1, euler_angles1)\n",
    "\n",
    "position1 = Point(0.8, 0.50, 0.246)\n",
    "euler_angles1 = (3.14, 0.0, 4.71)  # Replace with your desired Euler angles (x, y, z)\n",
    "target15 = pose_from_euler(position1, euler_angles1)\n",
    "\n",
    "\n",
    "#CANTO_1\n",
    "position1 = Point(0.8, 0.641, 0.246)\n",
    "euler_angles1 = (3.14, -0.78, 4.71)  # Replace with your desired Euler angles (x, y, z)\n",
    "target16 = pose_from_euler(position1, euler_angles1)\n",
    "\n",
    "\n",
    "# -60º\n",
    "position0 = Point(0.9, 0.5, 0.203)\n",
    "euler_angles0 = (-3.66, 0.0, 4.71)  # Replace with your desired Euler angles (x, y, z)\n",
    "target17 = pose_from_euler(position0, euler_angles0)\n",
    "\n",
    "position1 = Point(0.9, 0.25, 0.203)\n",
    "euler_angles1 = (-3.66, 0.0, 4.71)  # Replace with your desired Euler angles (x, y, z)\n",
    "target18 = pose_from_euler(position1, euler_angles1)\n",
    "\n",
    "position1 = Point(0.9, 0.0, 0.203)\n",
    "euler_angles1 = (-3.66, 0.0, 4.71)  # Replace with your desired Euler angles (x, y, z)\n",
    "target19 = pose_from_euler(position1, euler_angles1)\n",
    "\n",
    "position1 = Point(0.9, -0.25, 0.203)\n",
    "euler_angles1 = (-3.66, 0.0, 4.71)  # Replace with your desired Euler angles (x, y, z)\n",
    "target20 = pose_from_euler(position1, euler_angles1)\n",
    "\n",
    "position1 = Point(0.9, -0.50, 0.203)\n",
    "euler_angles1 = (-3.66, 0.0, 4.71)  # Replace with your desired Euler angles (x, y, z)\n",
    "target21 = pose_from_euler(position1, euler_angles1)\n",
    "\n",
    "\n",
    "# -45º\n",
    "position0 = Point(0.941, -0.5, 0.171)\n",
    "euler_angles0 = (-3.92, 0.0, 4.71)  # Replace with your desired Euler angles (x, y, z)\n",
    "target22 = pose_from_euler(position0, euler_angles0)\n",
    "\n",
    "position1 = Point(0.941, -0.25, 0.171)\n",
    "euler_angles1 = (-3.92, 0.0, 4.71)  # Replace with your desired Euler angles (x, y, z)\n",
    "target23 = pose_from_euler(position1, euler_angles1)\n",
    "\n",
    "position1 = Point(0.941, 0.0, 0.171)\n",
    "euler_angles1 = (-3.92, 0.0, 4.71)  # Replace with your desired Euler angles (x, y, z)\n",
    "target24 = pose_from_euler(position1, euler_angles1)\n",
    "\n",
    "position1 = Point(0.941, 0.25, 0.171)\n",
    "euler_angles1 = (-3.92, 0.0, 4.71)  # Replace with your desired Euler angles (x, y, z)\n",
    "target25 = pose_from_euler(position1, euler_angles1)\n",
    "\n",
    "position1 = Point(0.941, 0.50, 0.171)\n",
    "euler_angles1 = (-3.92, 0.0, 4.71)  # Replace with your desired Euler angles (x, y, z)\n",
    "target26 = pose_from_euler(position1, euler_angles1)\n",
    "\n",
    "# Display Poses\n",
    "display_poses([target0, target1, target2, target3, target4, target5, \n",
    "               target6, target7, target8, target9, target10, target11, \n",
    "               target12, target13, target14, target15, target16, target17, target18,\n",
    "               target19, target20, target21, target22, target23, target24, target25,\n",
    "               target26])\n"
   ]
  },
  {
   "cell_type": "code",
   "execution_count": null,
   "metadata": {},
   "outputs": [],
   "source": [
    "# Define the target poses in a list\n",
    "target_poses = [target0, target1, target2, target3, target4, target5, \n",
    "               target6, target7, target8, target9, target10, target11, \n",
    "               target12, target13, target14, target15, target16, target17, target18,\n",
    "               target19, target20, target21, target22, target23, target24, target25,\n",
    "               target26]\n",
    "\n",
    "# Loop through target poses\n",
    "for target_pose in target_poses:\n",
    "    # Plan the goal\n",
    "    success = plan_goal_srv(Goal(pose=target_pose, vel_scale=0.2, acc_scale=0.2, planner='lin')).success\n",
    "\n",
    "    # Check if planning is successful\n",
    "    if success:\n",
    "        # Execute the trajectory\n",
    "        success = execute_trajectory_srv()\n",
    "\n",
    "        # Check if execution is successful\n",
    "        if not success:\n",
    "            rospy.loginfo(\"Failed to execute trajectory\")\n",
    "            exit()\n",
    "    else:\n",
    "        rospy.loginfo(\"Failed to plan\")\n",
    "        exit()\n"
   ]
  },
  {
   "cell_type": "code",
   "execution_count": null,
   "metadata": {},
   "outputs": [],
   "source": [
    "success = plan_goal_srv(\n",
    "    Goal(\n",
    "        pose=target0,\n",
    "        vel_scale=0.2,\n",
    "        acc_scale=0.2,\n",
    "        planner='ptp',\n",
    "    )\n",
    ").success"
   ]
  },
  {
   "cell_type": "code",
   "execution_count": null,
   "metadata": {},
   "outputs": [],
   "source": [
    "success = execute_trajectory_srv()"
   ]
  },
  {
   "cell_type": "code",
   "execution_count": null,
   "metadata": {},
   "outputs": [],
   "source": [
    "success = plan_goal_srv(\n",
    "    Goal(\n",
    "        pose=target1,\n",
    "        vel_scale=0.2,\n",
    "        acc_scale=0.2,\n",
    "        planner='lin',\n",
    "    )\n",
    ").success\n"
   ]
  },
  {
   "cell_type": "code",
   "execution_count": null,
   "metadata": {},
   "outputs": [],
   "source": [
    "success = execute_trajectory_srv()\n"
   ]
  },
  {
   "cell_type": "code",
   "execution_count": null,
   "metadata": {},
   "outputs": [],
   "source": [
    "success = plan_goal_srv(\n",
    "    Goal(\n",
    "        pose=target2,\n",
    "        vel_scale=0.2,\n",
    "        acc_scale=0.2,\n",
    "        planner='lin',\n",
    "    )\n",
    ").success"
   ]
  },
  {
   "cell_type": "code",
   "execution_count": null,
   "metadata": {},
   "outputs": [],
   "source": [
    "success = execute_trajectory_srv()"
   ]
  },
  {
   "cell_type": "code",
   "execution_count": null,
   "metadata": {},
   "outputs": [],
   "source": [
    "success = plan_goal_srv(\n",
    "    Goal(\n",
    "        pose=target3,\n",
    "        vel_scale=0.2,\n",
    "        acc_scale=0.2,\n",
    "        planner='lin',\n",
    "    )\n",
    ").success"
   ]
  },
  {
   "cell_type": "code",
   "execution_count": null,
   "metadata": {},
   "outputs": [],
   "source": [
    "success = execute_trajectory_srv()"
   ]
  },
  {
   "cell_type": "code",
   "execution_count": null,
   "metadata": {},
   "outputs": [],
   "source": [
    "success = plan_goal_srv(\n",
    "    Goal(\n",
    "        pose=target4,\n",
    "        vel_scale=0.2,\n",
    "        acc_scale=0.2,\n",
    "        planner='lin',\n",
    "    )\n",
    ").success"
   ]
  },
  {
   "cell_type": "code",
   "execution_count": null,
   "metadata": {},
   "outputs": [],
   "source": [
    "success = execute_trajectory_srv()"
   ]
  },
  {
   "cell_type": "code",
   "execution_count": null,
   "metadata": {},
   "outputs": [],
   "source": [
    "success = plan_goal_srv(\n",
    "    Goal(\n",
    "        pose=target5,\n",
    "        vel_scale=0.2,\n",
    "        acc_scale=0.2,\n",
    "        planner='lin',\n",
    "    )\n",
    ").success"
   ]
  },
  {
   "cell_type": "code",
   "execution_count": null,
   "metadata": {},
   "outputs": [],
   "source": [
    "success = execute_trajectory_srv()"
   ]
  },
  {
   "cell_type": "code",
   "execution_count": null,
   "metadata": {},
   "outputs": [],
   "source": [
    "success = plan_goal_srv(\n",
    "    Goal(\n",
    "        pose=target6,\n",
    "        vel_scale=0.2,\n",
    "        acc_scale=0.2,\n",
    "        planner='lin',\n",
    "    )\n",
    ").success"
   ]
  },
  {
   "cell_type": "code",
   "execution_count": null,
   "metadata": {},
   "outputs": [],
   "source": [
    "success = execute_trajectory_srv()"
   ]
  },
  {
   "cell_type": "code",
   "execution_count": null,
   "metadata": {},
   "outputs": [],
   "source": [
    "success = plan_goal_srv(\n",
    "    Goal(\n",
    "        pose=target7,\n",
    "        vel_scale=0.2,\n",
    "        acc_scale=0.2,\n",
    "        planner='lin',\n",
    "    )\n",
    ").success"
   ]
  },
  {
   "cell_type": "code",
   "execution_count": null,
   "metadata": {},
   "outputs": [],
   "source": [
    "success = execute_trajectory_srv()"
   ]
  },
  {
   "cell_type": "code",
   "execution_count": null,
   "metadata": {},
   "outputs": [],
   "source": [
    "success = plan_goal_srv(\n",
    "    Goal(\n",
    "        pose=target8,\n",
    "        vel_scale=0.2,\n",
    "        acc_scale=0.2,\n",
    "        planner='lin',\n",
    "    )\n",
    ").success"
   ]
  },
  {
   "cell_type": "code",
   "execution_count": null,
   "metadata": {},
   "outputs": [],
   "source": [
    "success = execute_trajectory_srv()"
   ]
  },
  {
   "cell_type": "code",
   "execution_count": null,
   "metadata": {},
   "outputs": [],
   "source": [
    "success = plan_goal_srv(\n",
    "    Goal(\n",
    "        pose=target9,\n",
    "        vel_scale=0.2,\n",
    "        acc_scale=0.2,\n",
    "        planner='lin',\n",
    "    )\n",
    ").success"
   ]
  },
  {
   "cell_type": "code",
   "execution_count": null,
   "metadata": {},
   "outputs": [],
   "source": [
    "success = execute_trajectory_srv()"
   ]
  },
  {
   "cell_type": "code",
   "execution_count": null,
   "metadata": {},
   "outputs": [],
   "source": [
    "success = plan_goal_srv(\n",
    "    Goal(\n",
    "        pose=target10,\n",
    "        vel_scale=0.2,\n",
    "        acc_scale=0.2,\n",
    "        planner='lin',\n",
    "    )\n",
    ").success\n",
    "\n",
    "success = execute_trajectory_srv()\n",
    "\n",
    "success = plan_goal_srv(\n",
    "    Goal(\n",
    "        pose=target11,\n",
    "        vel_scale=0.2,\n",
    "        acc_scale=0.2,\n",
    "        planner='lin',\n",
    "    )\n",
    ").success\n",
    "\n",
    "success = execute_trajectory_srv()\n",
    "success = plan_goal_srv(\n",
    "    Goal(\n",
    "        pose=target12,\n",
    "        vel_scale=0.2,\n",
    "        acc_scale=0.2,\n",
    "        planner='lin',\n",
    "    )\n",
    ").success\n",
    "\n",
    "success = execute_trajectory_srv()"
   ]
  },
  {
   "cell_type": "code",
   "execution_count": null,
   "metadata": {},
   "outputs": [],
   "source": [
    "success = execute_trajectory_srv()"
   ]
  },
  {
   "cell_type": "code",
   "execution_count": null,
   "metadata": {},
   "outputs": [],
   "source": [
    "success = plan_goal_srv(\n",
    "    Goal(\n",
    "        pose=target11,\n",
    "        vel_scale=0.2,\n",
    "        acc_scale=0.2,\n",
    "        planner='lin',\n",
    "    )\n",
    ").success"
   ]
  },
  {
   "cell_type": "code",
   "execution_count": null,
   "metadata": {},
   "outputs": [],
   "source": [
    "success = execute_trajectory_srv()"
   ]
  },
  {
   "cell_type": "code",
   "execution_count": null,
   "metadata": {},
   "outputs": [],
   "source": [
    "success = plan_goal_srv(\n",
    "    Goal(\n",
    "        pose=target12,\n",
    "        vel_scale=0.2,\n",
    "        acc_scale=0.2,\n",
    "        planner='lin',\n",
    "    )\n",
    ").success"
   ]
  },
  {
   "cell_type": "code",
   "execution_count": null,
   "metadata": {},
   "outputs": [],
   "source": [
    "success = execute_trajectory_srv()"
   ]
  },
  {
   "cell_type": "code",
   "execution_count": null,
   "metadata": {},
   "outputs": [],
   "source": [
    "success = plan_goal_srv(\n",
    "    Goal(\n",
    "        pose=target13,\n",
    "        vel_scale=0.2,\n",
    "        acc_scale=0.2,\n",
    "        planner='lin',\n",
    "    )\n",
    ").success"
   ]
  },
  {
   "cell_type": "code",
   "execution_count": null,
   "metadata": {},
   "outputs": [],
   "source": [
    "success = execute_trajectory_srv()"
   ]
  },
  {
   "cell_type": "code",
   "execution_count": null,
   "metadata": {},
   "outputs": [],
   "source": [
    "success = plan_goal_srv(\n",
    "    Goal(\n",
    "        pose=target14,\n",
    "        vel_scale=0.2,\n",
    "        acc_scale=0.2,\n",
    "        planner='lin',\n",
    "    )\n",
    ").success"
   ]
  },
  {
   "cell_type": "code",
   "execution_count": null,
   "metadata": {},
   "outputs": [],
   "source": [
    "success = execute_trajectory_srv()"
   ]
  },
  {
   "cell_type": "code",
   "execution_count": null,
   "metadata": {},
   "outputs": [],
   "source": [
    "# plan_sequence_srv(\n",
    "#     goals=[\n",
    "#         Goal(\n",
    "#             joint_values=[0.0, -1.5708, 1.5708, -3.1416, -1.5708, 0],\n",
    "#             vel_scale=0.2,\n",
    "#             acc_scale=0.2,\n",
    "#             planner='ptp',\n",
    "#         ),\n",
    "#         Goal(pose=target0, vel_scale=0.2, acc_scale=0.2, planner='ptp'),\n",
    "#         Goal(pose=target1, vel_scale=0.2, acc_scale=0.2, planner='lin'),\n",
    "#     ],\n",
    "#     blends=[0.0, 0.2, 0.0],\n",
    "# )"
   ]
  },
  {
   "cell_type": "code",
   "execution_count": null,
   "metadata": {},
   "outputs": [],
   "source": [
    "# success = execute_trajectory_srv()\n"
   ]
  },
  {
   "cell_type": "code",
   "execution_count": null,
   "metadata": {},
   "outputs": [],
   "source": [
    "# sequence = poses_from_yaml('/dev_ws/src/commander/data/sequence_S.yaml')\n",
    "# origin = Pose(position=Point(0.75, 0.0, -0.6), orientation=Quaternion(0.0, 0.0, 0.0, 1.0))\n",
    "# sequence = orient_poses(origin, sequence)\n",
    "# tf = create_rotation_matrix([0, 0, pi])\n",
    "# sequence = [apply_transformation(pose, tf) for pose in sequence]\n",
    "# display_poses(sequence)\n",
    "# success = set_ee_srv('gripper_tcp')"
   ]
  },
  {
   "cell_type": "code",
   "execution_count": null,
   "metadata": {},
   "outputs": [],
   "source": [
    "success = plan_goal_srv(\n",
    "    Goal(joint_values=cam_home, vel_scale=0.2, acc_scale=0.2, planner='ptp')\n",
    ").success\n"
   ]
  },
  {
   "cell_type": "code",
   "execution_count": null,
   "metadata": {},
   "outputs": [],
   "source": [
    "success = execute_trajectory_srv()"
   ]
  },
  {
   "cell_type": "code",
   "execution_count": null,
   "metadata": {},
   "outputs": [],
   "source": [
    "# for pose in sequence:\n",
    "#     resp = plan_goal_srv(Goal(pose=pose, vel_scale=0.2, acc_scale=0.2, planner='ptp'))\n",
    "#     if resp.success:\n",
    "#         success = execute_trajectory_srv()\n",
    "#     else:\n",
    "#         break\n"
   ]
  },
  {
   "cell_type": "markdown",
   "metadata": {},
   "source": [
    "pick and place"
   ]
  },
  {
   "cell_type": "code",
   "execution_count": null,
   "metadata": {},
   "outputs": [],
   "source": [
    "# pick_pose = Pose(\n",
    "#     position=Point(0.8, 0.0, -0.5),\n",
    "#     orientation=Quaternion(0.7071067811865476, -0.7071067811865475, 0, 0),\n",
    "# )\n",
    "# pick_approach = deepcopy(pick_pose)\n",
    "# pick_approach.position.z += 0.1\n",
    "# obj_pose = PoseStamped()\n",
    "# thickness = 0.1\n",
    "# obj_pose.header.frame_id = 'base_link'\n",
    "# obj_pose.pose = deepcopy(pick_pose)\n",
    "# obj_pose.pose.position.z -= (thickness / 2.0) + 0.05\n",
    "# display_poses([pick_pose, pick_approach])\n",
    "# scene.add_box('plank', obj_pose, (1.0, 0.1, thickness))"
   ]
  },
  {
   "cell_type": "code",
   "execution_count": null,
   "metadata": {},
   "outputs": [],
   "source": [
    "# resp = plan_sequence_srv(\n",
    "#     goals=[\n",
    "#         Goal(\n",
    "#             joint_values=[0.0, -1.5708, 1.5708, -3.1416, -1.5708, 0],\n",
    "#             vel_scale=0.2,\n",
    "#             acc_scale=0.2,\n",
    "#             planner='ptp',\n",
    "#         ),\n",
    "#         Goal(pose=pick_approach, vel_scale=0.2, acc_scale=0.2, planner='ptp'),\n",
    "#         Goal(pose=pick_pose, vel_scale=0.2, acc_scale=0.2, planner='lin'),\n",
    "#     ],\n",
    "#     blends=[0.0, 0.05, 0.0],\n",
    "# )\n",
    "# if resp.success:\n",
    "#     success = execute_trajectory_srv()\n"
   ]
  },
  {
   "cell_type": "code",
   "execution_count": null,
   "metadata": {},
   "outputs": [],
   "source": [
    "# pick_place_srv(True, 'plank')\n"
   ]
  },
  {
   "cell_type": "code",
   "execution_count": null,
   "metadata": {},
   "outputs": [],
   "source": [
    "# resp = plan_sequence_srv(\n",
    "#     goals=[\n",
    "#         Goal(pose=pick_approach, vel_scale=0.2, acc_scale=0.2, planner='lin'),\n",
    "#         Goal(\n",
    "#             joint_values=[0.0, -1.5708, 1.5708, -3.1416, -1.5708, 0],\n",
    "#             vel_scale=0.2,\n",
    "#             acc_scale=0.2,\n",
    "#             planner='ptp',\n",
    "#         ),\n",
    "#     ],\n",
    "#     blends=[0.01, 0.0],\n",
    "# )\n",
    "# if resp.success:\n",
    "#     success = execute_trajectory_srv()"
   ]
  },
  {
   "cell_type": "code",
   "execution_count": null,
   "metadata": {},
   "outputs": [],
   "source": [
    "# resp = plan_sequence_srv(\n",
    "#     goals=[\n",
    "#         Goal(\n",
    "#             joint_values=[0.0, -1.5708, 1.5708, -3.1416, -1.5708, 0],\n",
    "#             vel_scale=0.2,\n",
    "#             acc_scale=0.2,\n",
    "#             planner='ptp',\n",
    "#         ),\n",
    "#         Goal(pose=pick_approach, vel_scale=0.2, acc_scale=0.2, planner='ptp'),\n",
    "#         Goal(pose=pick_pose, vel_scale=0.2, acc_scale=0.2, planner='lin'),\n",
    "#     ],\n",
    "#     blends=[0.0, 0.05, 0.0],\n",
    "# )\n",
    "# if resp.success:\n",
    "#     success = execute_trajectory_srv()"
   ]
  },
  {
   "cell_type": "code",
   "execution_count": null,
   "metadata": {},
   "outputs": [],
   "source": [
    "# pick_place_srv(False, 'plank')"
   ]
  }
 ],
 "metadata": {
  "kernelspec": {
   "display_name": "Python 3",
   "language": "python",
   "name": "python3"
  },
  "language_info": {
   "codemirror_mode": {
    "name": "ipython",
    "version": 3
   },
   "file_extension": ".py",
   "mimetype": "text/x-python",
   "name": "python",
   "nbconvert_exporter": "python",
   "pygments_lexer": "ipython3",
   "version": "3.8.10"
  },
  "orig_nbformat": 4
 },
 "nbformat": 4,
 "nbformat_minor": 2
}
